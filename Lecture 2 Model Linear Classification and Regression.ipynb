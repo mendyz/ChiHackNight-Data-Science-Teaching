{
 "cells": [
  {
   "cell_type": "markdown",
   "metadata": {},
   "source": [
    "# Lecture 2 Model Linear Classification and Regression\n",
    "ChiHackNight"
   ]
  },
  {
   "cell_type": "markdown",
   "metadata": {},
   "source": [
    "Linear models make a prediction using a linear function of the input features.\n",
    "\n",
    "#### Linear Models for Regression\n",
    "The output is called the Y hat and is the prediction the model makes. The features are X[0]...X[p] where 0 and p are the features of a single data point W and B are parameters of the model that are learned. \n",
    "\n",
    "If you have only one feature the prediction formula looks like: \n",
    "Yhat=w[0]\\*x[0]=b\n",
    "Which is the equation for a line. w[0] = the slope and b is the y intercept or the y-axis offset.\n",
    "As we add more features, w contains the slopes along each feature axis. \n",
    "\n",
    "The predicted response is the weighted sum of the input features, with weights (which can be negative) given by the enteries of w.\n",
    "\n",
    "Lets learn the parameters for w[0] and b for the simple one dimensional synthetic wave dataset (we will get a line)."
   ]
  },
  {
   "cell_type": "code",
   "execution_count": 3,
   "metadata": {},
   "outputs": [
    {
     "name": "stdout",
     "output_type": "stream",
     "text": [
      "We are importing and also printing out the versions of these main libraries:\n",
      "scikit-learn: 0.19.1\n",
      "numpy: 1.14.2\n",
      "pandas: 0.23.0\n",
      "can;t seem to grab the matplotlib version: matplotlib.__version__\n",
      "keras: 2.1.5\n",
      "tensorflow: 1.7.0\n",
      "seaborn: 0.8.1\n",
      "mglearn: 0.1.6\n"
     ]
    }
   ],
   "source": [
    "print('We are importing and also printing out the versions of these main libraries:')\n",
    "import sklearn\n",
    "print('scikit-learn: ' + sklearn.__version__)\n",
    "import numpy as np\n",
    "print('numpy: '+ np.__version__)\n",
    "import pandas as pd\n",
    "print('pandas: ' + pd.__version__)\n",
    "import matplotlib.pyplot as plt\n",
    "print('can;t seem to grab the matplotlib version: ' + 'matplotlib.__version__')\n",
    "import keras\n",
    "print('keras: ' + keras.__version__)\n",
    "import tensorflow\n",
    "print('tensorflow: ' + tensorflow.__version__) \n",
    "import seaborn as sns\n",
    "print('seaborn: ' + sns.__version__)\n",
    "import mglearn\n",
    "print('mglearn: ' + mglearn.__version__)"
   ]
  },
  {
   "cell_type": "code",
   "execution_count": 4,
   "metadata": {},
   "outputs": [],
   "source": [
    "%matplotlib inline"
   ]
  },
  {
   "cell_type": "code",
   "execution_count": 6,
   "metadata": {},
   "outputs": [
    {
     "name": "stdout",
     "output_type": "stream",
     "text": [
      "w[0]: 0.393906  b: -0.031804\n"
     ]
    },
    {
     "data": {
      "image/png": "[encoded data removed]",
      "text/plain": [
       "<Figure size 576x576 with 1 Axes>"
      ]
     },
     "metadata": {},
     "output_type": "display_data"
    }
   ],
   "source": [
    "mglearn.plots.plot_linear_regression_wave()"
   ]
  },
  {
   "cell_type": "markdown",
   "metadata": {},
   "source": [
    "from the plot:\n",
    "- w[0] the slope should be about 0.4\n",
    "- b the intercept or where the prediction line crosses the y-axis is slighly below 0.\n",
    "\n",
    "we can calculate this looking for the COEFFICIENT and the INTERCEPT (see below for the code)\n",
    "\n",
    "Linear models for regression can be characterized as regression models for which the prediction is a line for a single feature, a plane for 2 features, and a hyperplane for high dimensiality when we use many features.\n",
    "\n",
    "While this looks similar to the KNeighborsRegressor and makes it seem like we are limited with this straight line predictions and we seem to lose finer details, it actually is just this way with one feature and becomes powerful when we have many features using the linear models. In fact with more features than training data samples any target Y can be perfectly modeled on the training set as a linear function. \n",
    "\n",
    "There are many linear models for regression. The way to differentiate them is how the model params w and b are learned from the training data and how model complexity can be controlled.\n"
   ]
  },
  {
   "cell_type": "markdown",
   "metadata": {},
   "source": [
    "#### Linear Regression Ordinary Least Squares (OLS)\n",
    "\n",
    "- The simplist and most classic example of linear methods for regression. \n",
    "- Linear regression finds the params w and b that **minimize the mean squared error** between predictions and the true regression targets Y on the training set. \n",
    "- The mean square error is the sum of the squared differences between the predictions and the true values. \n",
    "- Linear regression has no parameters, which is a beneft, but....it also has no way to control model complexity. "
   ]
  },
  {
   "cell_type": "code",
   "execution_count": 10,
   "metadata": {},
   "outputs": [],
   "source": [
    "from sklearn.model_selection import train_test_split\n",
    "\n",
    "#produces the graph from earlier\n",
    "from sklearn.linear_model import LinearRegression\n",
    "X, y = mglearn.datasets.make_wave(n_samples=60)\n",
    "X_train, X_test, y_train, y_test = train_test_split(X, y, random_state=42)\n",
    "\n",
    "lr = LinearRegression().fit(X_train, y_train)"
   ]
  },
  {
   "cell_type": "markdown",
   "metadata": {},
   "source": [
    "The SLOPE params w, are also called the weights or coefficients and are stored in the coef_ attribute while the offset or intercept b is stored in the intercept_ attribute\n",
    "\n",
    "The underscore at the end is just indicating that the model creates this data and saves it\n",
    "\n",
    "The intercept_ attribute is always a single float number while the coef_ is a Numpy array with one entry per input feature. "
   ]
  },
  {
   "cell_type": "markdown",
   "metadata": {},
   "source": [
    "Note these numbers are the actual numbers we saw on the graph earlier."
   ]
  },
  {
   "cell_type": "code",
   "execution_count": 14,
   "metadata": {},
   "outputs": [
    {
     "name": "stdout",
     "output_type": "stream",
     "text": [
      "lr.coef_ : [0.39390555]\n",
      "lr.intercept_ : -0.03180434302675976\n"
     ]
    }
   ],
   "source": [
    "print(\"lr.coef_ : {}\".format(lr.coef_))\n",
    "print(\"lr.intercept_ : {}\".format(lr.intercept_))"
   ]
  },
  {
   "cell_type": "code",
   "execution_count": 18,
   "metadata": {},
   "outputs": [
    {
     "name": "stdout",
     "output_type": "stream",
     "text": [
      "Training set score (note this is an R^2 score bc we are doing regression): 0.67\n",
      "Test set Score (note this is an R^2 score bc we are doing regression): 0.66\n"
     ]
    }
   ],
   "source": [
    "print(\"Training set score (note this is an R^2 score bc we are doing regression): {:.2f}\".format(lr.score(X_train, y_train)))\n",
    "print(\"Test set Score (note this is an R^2 score bc we are doing regression): {:.2f}\".format(lr.score(X_test, y_test)))"
   ]
  },
  {
   "cell_type": "code",
   "execution_count": null,
   "metadata": {},
   "outputs": [],
   "source": []
  }
 ],
 "metadata": {
  "kernelspec": {
   "display_name": "Python [conda env:my_env]",
   "language": "python",
   "name": "conda-env-my_env-py"
  },
  "language_info": {
   "codemirror_mode": {
    "name": "ipython",
    "version": 3
   },
   "file_extension": ".py",
   "mimetype": "text/x-python",
   "name": "python",
   "nbconvert_exporter": "python",
   "pygments_lexer": "ipython3",
   "version": "3.6.5"
  }
 },
 "nbformat": 4,
 "nbformat_minor": 2
}
