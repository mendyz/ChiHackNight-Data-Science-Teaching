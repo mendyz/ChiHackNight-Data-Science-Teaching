{
 "cells": [
  {
   "cell_type": "markdown",
   "metadata": {},
   "source": [
    "## Basic GIT tutorial links to collaborative use of git"
   ]
  },
  {
   "cell_type": "markdown",
   "metadata": {},
   "source": [
    "https://github.com/Chingu-cohorts/voyage-wiki/wiki/ProjSetup-Git-Workflow\n",
    "\n",
    "https://try.github.io/levels/1/challenges/1\n",
    "    \n",
    "https://medium.com/@francesco.agnoletto/how-to-not-f-up-your-local-files-with-git-part-1-e0756c88fd3c\n",
    "\n",
    "https://medium.com/@francesco.agnoletto/how-to-not-f-up-your-local-files-with-git-part-2-fc4e243be02a\n",
    "\n",
    "https://medium.com/chingu/how-to-not-f-up-your-local-files-with-git-part-3-bf03b27b6e64\n",
    "\n",
    "https://www.youtube.com/watch?v=iqVYdMoMqlc\n",
    "\n",
    "https://guides.github.com/\n",
    "\n",
    "https://try.github.io/levels/1/challenges/1\n",
    "\n",
    "https://help.github.com/"
   ]
  },
  {
   "cell_type": "markdown",
   "metadata": {},
   "source": [
    "This is the code needed to install collapsible headers in the notebook\n",
    "\n",
    "http://jupyter-contrib-nbextensions.readthedocs.io/en/latest/nbextensions/collapsible_headings/readme.html\n",
    "\n",
    "    conda install -c conda-forge jupyter_contrib_nbextensions \n",
    "    cd ~/anaconda3/envs/fastai/lib/python3.6/site-packages/jupyter_contrib_nbextensions/nbextensions\n",
    "    jupyter nbextension install collapsible_headings --user"
   ]
  },
  {
   "cell_type": "markdown",
   "metadata": {},
   "source": []
  }
 ],
 "metadata": {
  "kernelspec": {
   "display_name": "Python [conda env:my_env]",
   "language": "python",
   "name": "conda-env-my_env-py"
  },
  "language_info": {
   "codemirror_mode": {
    "name": "ipython",
    "version": 3
   },
   "file_extension": ".py",
   "mimetype": "text/x-python",
   "name": "python",
   "nbconvert_exporter": "python",
   "pygments_lexer": "ipython3",
   "version": "3.6.5"
  }
 },
 "nbformat": 4,
 "nbformat_minor": 2
}
